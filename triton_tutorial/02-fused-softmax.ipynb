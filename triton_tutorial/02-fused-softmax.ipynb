{
  "cells": [
    {
      "cell_type": "markdown",
      "metadata": {},
      "source": [
        "\n",
        "# Fused Softmax\n",
        "\n",
        "In this tutorial, you will write a fused softmax operation that is significantly faster\n",
        "than PyTorch's native op for a particular class of matrices: those whose rows can fit in\n",
        "the GPU's SRAM.\n",
        "\n",
        "In doing so, you will learn about:\n",
        "\n",
        "* The benefits of kernel fusion for bandwidth-bound operations.\n",
        "\n",
        "* Reduction operators in Triton.\n"
      ]
    },
    {
      "cell_type": "markdown",
      "metadata": {},
      "source": [
        "## Motivations\n",
        "\n",
        "Custom GPU kernels for elementwise additions are educationally valuable but won't get you very far in practice.\n",
        "Let us consider instead the case of a simple (numerically stabilized) softmax operation:\n",
        "\n"
      ]
    },
    {
      "cell_type": "code",
      "execution_count": 3,
      "metadata": {
        "collapsed": false
      },
      "outputs": [],
      "source": [
        "import torch\n",
        "import triton\n",
        "import triton.language as tl\n",
        "from triton.runtime import driver\n",
        "\n",
        "# DEVICE = triton.runtime.driver.active.get_active_torch_device()\n",
        "DEVICE = torch.device(\"cuda:0\")\n",
        "\n",
        "def is_hip():\n",
        "    return triton.runtime.driver.active.get_current_target().backend == \"hip\"\n",
        "\n",
        "\n",
        "def is_cdna():\n",
        "    return is_hip() and triton.runtime.driver.active.get_current_target().arch in ('gfx940', 'gfx941', 'gfx942',\n",
        "                                                                                   'gfx90a', 'gfx908')\n",
        "\n",
        "\n",
        "def naive_softmax(x):\n",
        "    \"\"\"Compute row-wise softmax of X using native pytorch\n",
        "\n",
        "    We subtract the maximum element in order to avoid overflows. Softmax is invariant to\n",
        "    this shift.\n",
        "    \"\"\"\n",
        "    # read  MN elements ; write M  elements\n",
        "    x_max = x.max(dim=1)[0]\n",
        "    # read MN + M elements ; write MN elements\n",
        "    z = x - x_max[:, None]\n",
        "    # read  MN elements ; write MN elements\n",
        "    numerator = torch.exp(z)\n",
        "    # read  MN elements ; write M  elements\n",
        "    denominator = numerator.sum(dim=1)\n",
        "    # read MN + M elements ; write MN elements\n",
        "    ret = numerator / denominator[:, None]\n",
        "    # in total: read 5MN + 2M elements ; wrote 3MN + 2M elements\n",
        "    return ret"
      ]
    },
    {
      "cell_type": "markdown",
      "metadata": {},
      "source": [
        "When implemented naively in PyTorch, computing :code:`y = naive_softmax(x)` for $x \\in R^{M \\times N}$\n",
        "requires reading $5MN + 2M$ elements from DRAM and writing back $3MN + 2M$ elements.\n",
        "This is obviously wasteful; we'd prefer to have a custom \"fused\" kernel that only reads\n",
        "X once and does all the necessary computations on-chip.\n",
        "Doing so would require reading and writing back only $MN$ bytes, so we could\n",
        "expect a theoretical speed-up of ~4x (i.e., $(8MN + 4M) / 2MN$).\n",
        "The `torch.jit.script` flags aims to perform this kind of \"kernel fusion\" automatically\n",
        "but, as we will see later, it is still far from ideal.\n",
        "\n"
      ]
    },
    {
      "cell_type": "markdown",
      "metadata": {},
      "source": [
        "## Compute Kernel\n",
        "\n",
        "Our softmax kernel works as follows: each program loads a set of rows of the input matrix X strided by number of programs,\n",
        "normalizes it and writes back the result to the output Y.\n",
        "\n",
        "Note that one important limitation of Triton is that each block must have a\n",
        "power-of-two number of elements, so we need to internally \"pad\" each row and guard the\n",
        "memory operations properly if we want to handle any possible input shapes:\n",
        "\n"
      ]
    },
    {
      "cell_type": "code",
      "execution_count": null,
      "metadata": {
        "collapsed": false
      },
      "outputs": [],
      "source": [
        "@triton.jit\n",
        "def softmax_kernel(output_ptr, input_ptr, input_row_stride, output_row_stride, n_rows, n_cols, BLOCK_SIZE: tl.constexpr,\n",
        "                   num_stages: tl.constexpr) -> None: # block size is greater than n_cols\n",
        "    # starting row of the program\n",
        "    row_start = tl.program_id(0)\n",
        "    row_step = tl.num_programs(0)\n",
        "    for row_idx in tl.range(row_start, n_rows, row_step, num_stages=num_stages):\n",
        "        # The stride represents how much we need to increase the pointer to advance 1 row\n",
        "        row_start_ptr = input_ptr + row_idx * input_row_stride\n",
        "        # The block size is the next power of two greater than n_cols, so we can fit each\n",
        "        # row in a single block\n",
        "        col_offsets = tl.arange(0, BLOCK_SIZE)\n",
        "        input_ptrs = row_start_ptr + col_offsets\n",
        "        # Load the row into SRAM, using a mask since BLOCK_SIZE may be > than n_cols\n",
        "        mask = col_offsets < n_cols\n",
        "        row = tl.load(input_ptrs, mask=mask, other=-float('inf'))\n",
        "        # Subtract maximum for numerical stability\n",
        "        row_minus_max = row - tl.max(row, axis=0)\n",
        "        # Note that exponentiation in Triton is fast but approximate (i.e., think __expf in CUDA)\n",
        "        numerator = tl.exp(row_minus_max)\n",
        "        denominator = tl.sum(numerator, axis=0)\n",
        "        softmax_output = numerator / denominator\n",
        "        # Write back output to DRAM\n",
        "        output_row_start_ptr = output_ptr + row_idx * output_row_stride\n",
        "        output_ptrs = output_row_start_ptr + col_offsets\n",
        "        tl.store(output_ptrs, softmax_output, mask=mask)"
      ]
    },
    {
      "cell_type": "markdown",
      "metadata": {},
      "source": [
        "We can create a helper function that enqueues the kernel and its (meta-)arguments for any given input tensor.\n",
        "\n"
      ]
    },
    {
      "cell_type": "code",
      "execution_count": 30,
      "metadata": {
        "collapsed": false
      },
      "outputs": [
        {
          "name": "stdout",
          "output_type": "stream",
          "text": [
            "Device:  GPUTarget(backend='cuda', arch=89, warp_size=32)\n",
            "Number of SMs:  128\n",
            "Number of registers:  65536\n",
            "Size of shared memory:  101376\n",
            "Warp size:  32\n"
          ]
        }
      ],
      "source": [
        "properties = driver.active.utils.get_device_properties(DEVICE.index) # device properties\n",
        "NUM_SM = properties[\"multiprocessor_count\"] # number of streaming multiprocessors\n",
        "NUM_REGS = properties[\"max_num_regs\"] # number of registers per thread\n",
        "SIZE_SMEM = properties[\"max_shared_mem\"] # size of shared memory per block\n",
        "WARP_SIZE = properties[\"warpSize\"] # number of threads per warp\n",
        "target = triton.runtime.driver.active.get_current_target() # target architecture\n",
        "kernels = {}\n",
        "print(\"Device: \", target)\n",
        "print(\"Number of SMs: \", NUM_SM)\n",
        "print(\"Number of registers: \", NUM_REGS)\n",
        "print(\"Size of shared memory: \", SIZE_SMEM)\n",
        "print(\"Warp size: \", WARP_SIZE)\n",
        "\n",
        "\n",
        "def softmax(x):\n",
        "    n_rows, n_cols = x.shape\n",
        "\n",
        "    # The block size of each loop iteration is the smallest power of two greater than the number of columns in `x`\n",
        "    BLOCK_SIZE = triton.next_power_of_2(n_cols)\n",
        "\n",
        "    # Another trick we can use is to ask the compiler to use more threads per row by\n",
        "    # increasing the number of warps (`num_warps`) over which each row is distributed.\n",
        "    # You will see in the next tutorial how to auto-tune this value in a more natural\n",
        "    # way so you don't have to come up with manual heuristics yourself.\n",
        "    num_warps = 8\n",
        "\n",
        "    # Number of software pipelining stages.\n",
        "    num_stages = 4 if SIZE_SMEM > 200000 else 2\n",
        "\n",
        "    # Allocate output\n",
        "    y = torch.empty_like(x)\n",
        "    # pre-compile kernel to get register usage and compute thread occupancy.\n",
        "    kernel = softmax_kernel.warmup(y, x, x.stride(0), y.stride(0), n_rows, n_cols, BLOCK_SIZE=BLOCK_SIZE,\n",
        "                                   num_stages=num_stages, num_warps=num_warps, grid=(1, ))\n",
        "    kernel._init_handles()\n",
        "    n_regs = kernel.n_regs\n",
        "    size_smem = kernel.metadata.shared\n",
        "    # print(\"size_smem: \", size_smem)\n",
        "    if is_hip():\n",
        "        # NUM_REGS represents the number of regular purpose registers. On CDNA architectures this is half of all registers available.\n",
        "        # However, this is not always the case. In most cases all registers can be used as regular purpose registers.\n",
        "        # ISA SECTION (3.6.4 for CDNA3)\n",
        "        # VGPRs are allocated out of two pools: regular VGPRs and accumulation VGPRs. Accumulation VGPRs are used\n",
        "        # with matrix VALU instructions, and can also be loaded directly from memory. A wave may have up to 512 total\n",
        "        # VGPRs, 256 of each type. When a wave has fewer than 512 total VGPRs, the number of each type is flexible - it is\n",
        "        # not required to be equal numbers of both types.\n",
        "        if is_cdna():\n",
        "            NUM_GPRS = NUM_REGS * 2\n",
        "\n",
        "        # MAX_NUM_THREADS represents maximum number of resident threads per multi-processor.\n",
        "        # When we divide this number with WARP_SIZE we get maximum number of waves that can\n",
        "        # execute on a CU (multi-processor)  in parallel.\n",
        "        MAX_NUM_THREADS = properties[\"max_threads_per_sm\"]\n",
        "        max_num_waves = MAX_NUM_THREADS // WARP_SIZE\n",
        "        occupancy = min(NUM_GPRS // WARP_SIZE // n_regs, max_num_waves) // num_warps\n",
        "    else:\n",
        "        occupancy = NUM_REGS // (n_regs * WARP_SIZE * num_warps)\n",
        "    occupancy = min(occupancy, SIZE_SMEM // size_smem)\n",
        "    num_programs = NUM_SM * occupancy\n",
        "\n",
        "    num_programs = min(num_programs, n_rows)\n",
        "\n",
        "    # Create a number of persistent programs.\n",
        "    # kernel[(num_programs, 1, 1)](y, x, x.stride(0), y.stride(0), n_rows, n_cols, BLOCK_SIZE, num_stages) # 已经设置了BLOCK_SIZE和num_stages，不要在kernel调用时传入 constexpr 参数\n",
        "    kernel[(num_programs, 1, 1)](y, x, x.stride(0), y.stride(0), n_rows, n_cols)\n",
        "    return y"
      ]
    },
    {
      "cell_type": "markdown",
      "metadata": {},
      "source": [
        "## Unit Test\n",
        "\n"
      ]
    },
    {
      "cell_type": "markdown",
      "metadata": {},
      "source": [
        "We make sure that we test our kernel on a matrix with an irregular number of rows and columns.\n",
        "This will allow us to verify that our padding mechanism works.\n",
        "\n"
      ]
    },
    {
      "cell_type": "code",
      "execution_count": 31,
      "metadata": {
        "collapsed": false
      },
      "outputs": [],
      "source": [
        "torch.manual_seed(0)\n",
        "x = torch.randn(1823, 781, device=DEVICE)\n",
        "y_triton = softmax(x)\n",
        "y_torch = torch.softmax(x, axis=1)\n",
        "assert torch.allclose(y_triton, y_torch), (y_triton, y_torch)"
      ]
    },
    {
      "cell_type": "markdown",
      "metadata": {},
      "source": [
        "As expected, the results are identical.\n",
        "\n"
      ]
    },
    {
      "cell_type": "markdown",
      "metadata": {},
      "source": [
        "## Benchmark\n",
        "\n",
        "Here we will benchmark our operation as a function of the number of columns in the input matrix -- assuming 4096 rows.\n",
        "We will then compare its performance against (1) :code:`torch.softmax` and (2) the :code:`naive_softmax` defined above.\n",
        "\n"
      ]
    },
    {
      "cell_type": "code",
      "execution_count": 35,
      "metadata": {
        "collapsed": false
      },
      "outputs": [
        {
          "data": {
            "image/png": "[encoded data removed]",
            "text/plain": [
              "<Figure size 640x480 with 1 Axes>"
            ]
          },
          "metadata": {},
          "output_type": "display_data"
        },
        {
          "name": "stdout",
          "output_type": "stream",
          "text": [
            "softmax-performance:\n",
            "          N      Triton       Torch\n",
            "0     256.0  184.853141  173.565813\n",
            "1     384.0  248.033599  225.456632\n",
            "2     512.0  318.829364  278.170227\n",
            "3     640.0  346.811166  314.958075\n",
            "4     768.0  388.507363  353.250430\n",
            "5     896.0  438.826597  404.317198\n",
            "6    1024.0  497.576543  435.794406\n",
            "7    1152.0  540.857141  396.648471\n",
            "8    1280.0  549.344074  396.688514\n",
            "9    1408.0  598.162762  426.269710\n",
            "10   1536.0  642.804116  456.018422\n",
            "11   1664.0  631.625092  490.839743\n",
            "12   1792.0  639.219786  508.706112\n",
            "13   1920.0  680.801670  549.764798\n",
            "14   2048.0  670.079450  587.281695\n",
            "15   2176.0  689.539113  597.220317\n",
            "16   2304.0  684.783193  624.773206\n",
            "17   2432.0  714.369570  653.582676\n",
            "18   2560.0  730.397626  661.653038\n",
            "19   2688.0  692.656475  600.932370\n",
            "20   2816.0  764.627563  681.541749\n",
            "21   2944.0  801.206708  682.930007\n",
            "22   3072.0  780.700992  716.064543\n",
            "23   3200.0  800.096511  733.158202\n",
            "24   3328.0  774.846597  720.232427\n",
            "25   3456.0  814.327739  731.946824\n",
            "26   3584.0  834.103201  729.299462\n",
            "27   3712.0  815.389718  743.294870\n",
            "28   3840.0  829.327113  762.358763\n",
            "29   3968.0  858.563336  758.627028\n",
            "30   4096.0  733.936581  738.906618\n",
            "31   4224.0  711.399715  726.759865\n",
            "32   4352.0  684.482572  719.001918\n",
            "33   4480.0  688.047724  739.177686\n",
            "34   4608.0  662.446642  717.572723\n",
            "35   4736.0  650.846694  649.083187\n",
            "36   4864.0  685.612794  716.784077\n",
            "37   4992.0  734.119078  749.618386\n",
            "38   5120.0  731.400005  753.194744\n",
            "39   5248.0  732.265068  747.981589\n",
            "40   5376.0  746.129839  758.836469\n",
            "41   5504.0  736.232873  768.364477\n",
            "42   5632.0  768.300129  774.409559\n",
            "43   5760.0  759.848157  777.692868\n",
            "44   5888.0  720.644039  803.875743\n",
            "45   6016.0  763.362933  800.519566\n",
            "46   6144.0  733.259810  748.551817\n",
            "47   6272.0  756.343373  806.692435\n",
            "48   6400.0  710.808176  729.269033\n",
            "49   6528.0  741.737561  824.875289\n",
            "50   6656.0  740.805051  809.940050\n",
            "51   6784.0  731.802105  714.488212\n",
            "52   6912.0  731.027674  781.457917\n",
            "53   7040.0  739.303594  803.311923\n",
            "54   7168.0  749.539661  813.241532\n",
            "55   7296.0  752.150688  796.469501\n",
            "56   7424.0  750.464268  793.390882\n",
            "57   7552.0  742.011055  817.020672\n",
            "58   7680.0  759.719407  810.264036\n",
            "59   7808.0  753.582577  817.758756\n",
            "60   7936.0  763.934789  839.602982\n",
            "61   8064.0  762.501349  820.665948\n",
            "62   8192.0  759.275739  784.207544\n",
            "63   8320.0  696.637842  817.752608\n",
            "64   8448.0  681.520672  761.790533\n",
            "65   8576.0  679.839386  815.594563\n",
            "66   8704.0  695.380761  796.293508\n",
            "67   8832.0  691.230664  761.323910\n",
            "68   8960.0  699.252235  800.760035\n",
            "69   9088.0  705.922831  810.567437\n",
            "70   9216.0  708.068023  801.111565\n",
            "71   9344.0  705.188092  779.579625\n",
            "72   9472.0  703.624781  805.966184\n",
            "73   9600.0  709.920019  802.703302\n",
            "74   9728.0  712.026253  800.481628\n",
            "75   9856.0  699.549019  816.489679\n",
            "76   9984.0  713.204099  821.545273\n",
            "77  10112.0  708.423071  797.152743\n",
            "78  10240.0  708.460919  808.187210\n",
            "79  10368.0  712.294465  817.376313\n",
            "80  10496.0  709.854607  791.547800\n",
            "81  10624.0  698.097740  792.524470\n",
            "82  10752.0  717.671789  820.685489\n",
            "83  10880.0  712.464671  799.633488\n",
            "84  11008.0  713.948374  798.156556\n",
            "85  11136.0  715.015757  816.089460\n",
            "86  11264.0  717.839401  796.697738\n",
            "87  11392.0  720.314900  817.306498\n",
            "88  11520.0  729.715670  819.872960\n",
            "89  11648.0  713.473078  807.847886\n",
            "90  11776.0  730.748323  824.158444\n",
            "91  11904.0  716.600506  832.763289\n",
            "92  12032.0  727.868311  826.359550\n",
            "93  12160.0  714.280370  830.778080\n",
            "94  12288.0  720.655116  820.475108\n",
            "95  12416.0  733.264142  801.926685\n",
            "96  12544.0  723.699050  798.278934\n",
            "97  12672.0  714.545502  792.899983\n"
          ]
        }
      ],
      "source": [
        "@triton.testing.perf_report(\n",
        "    triton.testing.Benchmark(\n",
        "        x_names=['N'],  # argument names to use as an x-axis for the plot\n",
        "        x_vals=[128 * i for i in range(2, 100)],  # different possible values for `x_name`\n",
        "        line_arg='provider',  # argument name whose value corresponds to a different line in the plot\n",
        "        line_vals=['triton', 'torch'],  # possible values for `line_arg``\n",
        "        line_names=[\n",
        "            \"Triton\",\n",
        "            \"Torch\",\n",
        "        ],  # label name for the lines\n",
        "        styles=[('blue', '-'), ('green', '-')],  # line styles\n",
        "        ylabel=\"GB/s\",  # label name for the y-axis\n",
        "        plot_name=\"softmax-performance\",  # name for the plot. Used also as a file name for saving the plot.\n",
        "        args={'M': 512},  # values for function arguments not in `x_names` and `y_name`\n",
        "    ))\n",
        "def benchmark(M, N, provider):\n",
        "    x = torch.randn(M, N, device=DEVICE, dtype=torch.float32)\n",
        "    stream = getattr(torch, DEVICE.type).Stream()\n",
        "    getattr(torch, DEVICE.type).set_stream(stream)\n",
        "    if provider == 'triton':\n",
        "        ms = triton.testing.do_bench(lambda: softmax(x))\n",
        "    if provider == 'torch':\n",
        "        ms = triton.testing.do_bench(lambda: torch.softmax(x, axis=-1))\n",
        "    gbps = lambda ms: 2 * x.numel() * x.element_size() * 1e-9 / (ms * 1e-3)\n",
        "    return gbps(ms)\n",
        "\n",
        "\n",
        "benchmark.run(show_plots=True, print_data=True)"
      ]
    },
    {
      "cell_type": "markdown",
      "metadata": {},
      "source": [
        "In the above plot, we can see that:\n",
        " - Triton is 4x faster than the Torch JIT. This confirms our suspicions that the Torch JIT does not do any fusion here.\n",
        " - Triton is noticeably faster than :code:`torch.softmax` -- in addition to being **easier to read, understand and maintain**.\n",
        "   Note however that the PyTorch `softmax` operation is more general and will work on tensors of any shape.\n",
        "\n"
      ]
    }
  ],
  "metadata": {
    "kernelspec": {
      "display_name": "cuda_acceleration",
      "language": "python",
      "name": "python3"
    },
    "language_info": {
      "codemirror_mode": {
        "name": "ipython",
        "version": 3
      },
      "file_extension": ".py",
      "mimetype": "text/x-python",
      "name": "python",
      "nbconvert_exporter": "python",
      "pygments_lexer": "ipython3",
      "version": "3.10.17"
    }
  },
  "nbformat": 4,
  "nbformat_minor": 0
}
